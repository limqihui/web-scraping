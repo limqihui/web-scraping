{
 "cells": [
  {
   "cell_type": "markdown",
   "id": "193190f8-464b-46b0-96bc-af05257eaa45",
   "metadata": {},
   "source": [
    "#### This task involves scraping social media websites to get the follower count for data analysis. The social media websites that follow a similar process as the one below are Facebook, TikTok, and YouTube. Here, we will be using Facebook as an example. "
   ]
  },
  {
   "cell_type": "code",
   "execution_count": null,
   "id": "ed5b4dd3-c21f-4e4b-8e79-6f97a20a65f2",
   "metadata": {},
   "outputs": [],
   "source": [
    "from selenium import webdriver\n",
    "from bs4 import BeautifulSoup\n",
    "import time\n",
    "import pandas as pd\n",
    "from datetime import date"
   ]
  },
  {
   "cell_type": "markdown",
   "id": "82bf2196-dc08-47c3-aa5d-76f324cf472f",
   "metadata": {},
   "source": [
    "1. We start off by retrieving the URLs of the profiles that we need to get the follower count from."
   ]
  },
  {
   "cell_type": "code",
   "execution_count": null,
   "id": "2dc5e280-cec8-4af4-b933-ee201c3f0416",
   "metadata": {},
   "outputs": [],
   "source": [
    "facebook = pd.read_excel('profiles.xlsx', sheet_name = 'Facebook')\n",
    "\n",
    "#creates tuples (handle, url, status)...\n",
    "urlsTuple = list(zip(facebook['Status'],facebook['Handle'], facebook['URL']))\n",
    "\n",
    "#list(a) creates a list in lists [handle, url]...\n",
    "urls = [list(a) for a in urlsTuple] \n",
    "\n",
    "totalCount = len(urls)\n",
    "count = 1"
   ]
  },
  {
   "cell_type": "markdown",
   "id": "b9775fae-12a7-44d0-8192-f1112d38749e",
   "metadata": {},
   "source": [
    "2. We can now retrieve the like count for the respective profiles on Facebook. "
   ]
  },
  {
   "cell_type": "code",
   "execution_count": null,
   "id": "c5df8a41-4c00-4b30-8de2-af7c6a2c88a6",
   "metadata": {},
   "outputs": [],
   "source": [
    "browser = webdriver.Firefox()\n",
    "\n",
    "for url in urls:\n",
    "    print(f\"[{count}/{totalCount}] Retrieving subscribers for {url[1]}...\")\n",
    "\n",
    "    if url[0] == 'Inactive':\n",
    "        url.append(0)\n",
    "\n",
    "    else:       \n",
    "        browser.get(url[2])\n",
    "        time.sleep(1)\n",
    "\n",
    "        soup = BeautifulSoup(browser.page_source, 'html.parser')\n",
    "\n",
    "        description = soup.find('meta', attrs={'name':'description'})\n",
    "\n",
    "        # Content is a string of form \"... Singapore. XXXXX likes.....\"\n",
    "        content = description['content']\n",
    "\n",
    "        # Locate like count between words Singapore and likes\n",
    "        likesString = content[content.find('. ') + 2:content.find(' likes')]\n",
    "\n",
    "        if likesString.endswith(\"K\"):\n",
    "            url.append(int(float(likesString[:-1]) * 1000))\n",
    "\n",
    "        elif likesString.endswith(\"M\"):\n",
    "            url.append(int(float(likeString[:-1]) * 1000000))\n",
    "\n",
    "        else: \n",
    "            # Split numbers using ',' --> get list of number parts as strings\n",
    "            # eg. '3,370,140' --> ['3', '370', '140']\n",
    "            likesList = likesString.split(',')\n",
    "\n",
    "            # Define likes as a blank before combining elements in the list\n",
    "            likes = ''\n",
    "\n",
    "            # Combine elements in the list\n",
    "            for x in likesList:\n",
    "                likes += x\n",
    "            likes = int(likes)\n",
    "            url.append(likes)\n",
    "\n",
    "    count += 1\n",
    "\n",
    "browser.close()"
   ]
  },
  {
   "cell_type": "markdown",
   "id": "04177a64-e833-4f47-8f2c-e0d897ba3fc3",
   "metadata": {},
   "source": [
    "3. Lastly, we will generate an output file containing the like count for each profile."
   ]
  },
  {
   "cell_type": "code",
   "execution_count": null,
   "id": "6da34af5-a6cd-43d9-910d-55a93f415425",
   "metadata": {},
   "outputs": [],
   "source": [
    "fileName = f\"facebook_likes_{date.today()}.xlsx\"\n",
    "df=pd.DataFrame(urls, columns=['Status','Handle', 'URL', 'Likes'])\n",
    "df.to_excel(fileName, index=False)"
   ]
  }
 ],
 "metadata": {
  "kernelspec": {
   "display_name": "Python 3 (ipykernel)",
   "language": "python",
   "name": "python3"
  },
  "language_info": {
   "codemirror_mode": {
    "name": "ipython",
    "version": 3
   },
   "file_extension": ".py",
   "mimetype": "text/x-python",
   "name": "python",
   "nbconvert_exporter": "python",
   "pygments_lexer": "ipython3",
   "version": "3.10.6"
  }
 },
 "nbformat": 4,
 "nbformat_minor": 5
}
